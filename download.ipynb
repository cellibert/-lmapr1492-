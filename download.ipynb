{
 "cells": [
  {
   "cell_type": "code",
   "execution_count": 4,
   "id": "handy-rental",
   "metadata": {},
   "outputs": [],
   "source": [
    "from pymatgen.ext.matproj import MPRester\n",
    "from pymatgen.io.cif import CifWriter\n",
    "\n",
    "# --------------------------------------------------------\n",
    "# Procedure de telechargement du fichier .cif du LiCoO2.\n",
    "# --------------------------------------------------------\n",
    "\n",
    "with MPRester(\"L41ZHCirMyRASy8QHJEO\") as m:\n",
    "    \n",
    "    structure = m.get_structure_by_material_id(\"mp-22526\")\n",
    "    \n",
    "    myCifWritten = CifWriter(structure)\n",
    "    \n",
    "    myCifWritten.write_file('LiCoO2_mp-22526.cif')\n",
    "    \n",
    "# --------------------------------------------------------"
   ]
  },
  {
   "cell_type": "code",
   "execution_count": null,
   "id": "awful-bradley",
   "metadata": {},
   "outputs": [],
   "source": []
  }
 ],
 "metadata": {
  "kernelspec": {
   "display_name": "Python 3",
   "language": "python",
   "name": "python3"
  },
  "language_info": {
   "codemirror_mode": {
    "name": "ipython",
    "version": 3
   },
   "file_extension": ".py",
   "mimetype": "text/x-python",
   "name": "python",
   "nbconvert_exporter": "python",
   "pygments_lexer": "ipython3",
   "version": "3.6.8"
  }
 },
 "nbformat": 4,
 "nbformat_minor": 5
}
