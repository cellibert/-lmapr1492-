{
 "cells": [
  {
   "cell_type": "code",
   "execution_count": 6,
   "id": "fabulous-question",
   "metadata": {},
   "outputs": [
    {
     "name": "stdout",
     "output_type": "stream",
     "text": [
      "Nom du matériau considéré :\n",
      "LiCoO2\n",
      "--------------------------------------------------------\n",
      "Vecteurs de bases de son réseau direct :\n",
      "4.786091 -1.421449 0.000000\n",
      "4.786091 1.421449 0.000000\n",
      "4.363926 0.000000 2.425558\n",
      "--------------------------------------------------------\n",
      "Vecteurs de bases de son réseau réciproque :\n",
      "0.656401 -2.210134 -1.180958\n",
      "0.656401 2.210134 -1.180958\n",
      "0.000000 0.000000 2.590408\n",
      "--------------------------------------------------------\n",
      "Type de maille :\n",
      "rhombohedral\n",
      "--------------------------------------------------------\n",
      "Système cristallin :\n",
      "trigonal\n",
      "--------------------------------------------------------\n",
      "Groupe ponctuel :\n",
      "-3m\n",
      "--------------------------------------------------------\n"
     ]
    }
   ],
   "source": [
    "from pymatgen.ext.matproj import MPRester\n",
    "from pymatgen.io.cif import CifWriter\n",
    "from pymatgen.symmetry.analyzer import SpacegroupAnalyzer\n",
    "\n",
    "# --------------------------------------------------------\n",
    "# Procedure de telechargement du fichier .cif du LiCoO2.\n",
    "# --------------------------------------------------------\n",
    "\n",
    "with MPRester(\"L41ZHCirMyRASy8QHJEO\") as m:\n",
    "    \n",
    "    structure = m.get_structure_by_material_id(\"mp-22526\")\n",
    "    \n",
    "    myCifWritten = CifWriter(structure)\n",
    "    \n",
    "    myCifWritten.write_file('LiCoO2_mp-22526.cif')\n",
    "    \n",
    "# --------------------------------------------------------\n",
    "# Lecture du fichier Cif.\n",
    "# --------------------------------------------------------\n",
    "\n",
    "LiCoO2 = SpacegroupAnalyzer(structure)\n",
    "\n",
    "vBases_direct = structure.lattice\n",
    "vBases_reciprocal = structure.lattice.reciprocal_lattice\n",
    "\n",
    "tMaille = LiCoO2.get_lattice_type()\n",
    "sCristallin = LiCoO2.get_crystal_system()\n",
    "gPonctuel = LiCoO2.get_point_group_symbol()\n",
    "\n",
    "# --------------------------------------------------------\n",
    "# Affichage des informations demandées.\n",
    "# --------------------------------------------------------\n",
    "print(\"Nom du matériau considéré :\")\n",
    "print(\"LiCoO2\")\n",
    "\n",
    "print(\"--------------------------------------------------------\")\n",
    "print(\"Vecteurs de bases de son réseau direct :\")\n",
    "print(vBases_direct)\n",
    "\n",
    "print(\"--------------------------------------------------------\")\n",
    "print(\"Vecteurs de bases de son réseau réciproque :\")\n",
    "print(vBases_reciprocal)\n",
    "\n",
    "print(\"--------------------------------------------------------\")\n",
    "print(\"Type de maille :\")\n",
    "print(tMaille)\n",
    "\n",
    "print(\"--------------------------------------------------------\")\n",
    "print(\"Système cristallin :\")\n",
    "print(sCristallin)\n",
    "\n",
    "print(\"--------------------------------------------------------\")\n",
    "print(\"Groupe ponctuel :\")\n",
    "print(gPonctuel)\n",
    "\n",
    "print(\"--------------------------------------------------------\")\n",
    "\n",
    "# --------------------------------------------------------"
   ]
  },
  {
   "cell_type": "code",
   "execution_count": null,
   "id": "stopped-landscape",
   "metadata": {},
   "outputs": [],
   "source": []
  }
 ],
 "metadata": {
  "kernelspec": {
   "display_name": "Python 3",
   "language": "python",
   "name": "python3"
  },
  "language_info": {
   "codemirror_mode": {
    "name": "ipython",
    "version": 3
   },
   "file_extension": ".py",
   "mimetype": "text/x-python",
   "name": "python",
   "nbconvert_exporter": "python",
   "pygments_lexer": "ipython3",
   "version": "3.6.8"
  }
 },
 "nbformat": 4,
 "nbformat_minor": 5
}
