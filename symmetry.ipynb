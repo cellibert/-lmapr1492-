{
 "cells": [
  {
   "cell_type": "code",
   "execution_count": 1,
   "id": "alert-establishment",
   "metadata": {},
   "outputs": [
    {
     "name": "stdout",
     "output_type": "stream",
     "text": [
      "Atome initial :  [0.0, 0.0, 1.0]\n",
      "\n",
      "Atome final :  [ 0.  0. -1.]\n",
      "\n",
      "Operation de symétrie : \n",
      " [ 0.  0. -1.] = [0. 0. 0.] + \n",
      " [[ 1. -1.  0.]\n",
      " [ 0. -1.  0.]\n",
      " [ 0.  0. -1.]] . [0.0, 0.0, 1.0]\n",
      "Atome initial :  [0.0, 0.5, 1.0]\n",
      "\n",
      "Atome final :  [0.5 0.5 1. ]\n",
      "\n",
      "Operation de symétrie : \n",
      " [0.5 0.5 1. ] = [0. 0. 0.] + \n",
      " [[-1.  1.  0.]\n",
      " [ 0.  1.  0.]\n",
      " [ 0.  0.  1.]] . [0.0, 0.0, 1.0]\n",
      "Atome initial :  [0.0, 0.0, 1.0]\n",
      "\n",
      "Atome final :  [0.66666667 0.33333333 1.33333333]\n",
      "\n",
      "Operation de symétrie : \n",
      " [0.66666667 0.33333333 1.33333333] = [0.66666667 0.33333333 0.33333333] + \n",
      " [[ 0. -1.  0.]\n",
      " [-1.  0.  0.]\n",
      " [ 0.  0.  1.]] . [0.0, 0.0, 1.0]\n"
     ]
    }
   ],
   "source": [
    "from pymatgen.ext.matproj import MPRester\n",
    "from pymatgen.io.cif import CifWriter\n",
    "from pymatgen.symmetry.analyzer import SpacegroupAnalyzer\n",
    "from numpy import *\n",
    "from pymatgen.core.operations import SymmOp\n",
    "from IPython.display import Image\n",
    "\n",
    "# --------------------------------------------------------\n",
    "# Procedure de telechargement du fichier .cif du LiCoO2.\n",
    "# --------------------------------------------------------\n",
    "\n",
    "with MPRester(\"L41ZHCirMyRASy8QHJEO\") as m:\n",
    "    \n",
    "    structure = m.get_structure_by_material_id(\"mp-22526\")\n",
    "    \n",
    "    myCifWritten = CifWriter(structure)\n",
    "    \n",
    "    myCifWritten.write_file('LiCoO2_mp-22526_symmetrized.cif')\n",
    "    \n",
    "# --------------------------------------------------------\n",
    "# Etude des trois elements de symetrie.\n",
    "# --------------------------------------------------------\n",
    "    \n",
    "    Sym_1 = SymmOp.from_xyz_string('x-y, -y, -z') # 9\n",
    "    Li0 = [0.,0.,1.]\n",
    "    Li0_Sym = Sym_1.operate(Li0)\n",
    "    \n",
    "    print(\"Atome initial : \", Li0)\n",
    "    print(\"\\nAtome final : \", Li0_Sym)\n",
    "    print(\"\\nOperation de symétrie : \\n\",Li0_Sym, '=',Sym_1.translation_vector, \"+ \\n\",Sym_1.rotation_matrix, '.',Li0)\n",
    "    print(\" =================================================================\")\n",
    "    \n",
    "# --------------------------------------------------------\n",
    "    \n",
    "    Sym_2 = SymmOp.from_xyz_string('-x+y, y, z') # 10\n",
    "    Co1 = [0.,0.5,1.]\n",
    "    Co1_Sym = Sym_2.operate(Co1)\n",
    "    \n",
    "    print(\"Atome initial : \", Co1)\n",
    "    print(\"\\nAtome final : \", Co1_Sym)\n",
    "    print(\"\\nOperation de symétrie : \\n\",Co1_Sym, '=',Sym_2.translation_vector, \"+ \\n\",Sym_2.rotation_matrix, '.',Li0)\n",
    "    print(\" =================================================================\")\n",
    "    \n",
    "# --------------------------------------------------------\n",
    "    \n",
    "    Sym_3 = SymmOp.from_xyz_string('-y+2/3, -x+1/3, z+1/3') # 20\n",
    "    O2 = [0.,0.,1.]\n",
    "    O2_Sym = Sym_3.operate(O2)\n",
    "    \n",
    "    print(\"Atome initial : \", O2)\n",
    "    print(\"\\nAtome final : \", O2_Sym)\n",
    "    print(\"\\nOperation de symétrie : \\n\",O2_Sym, '=',Sym_3.translation_vector, \"+ \\n\",Sym_3.rotation_matrix, '.',O2)\n",
    "    print(\" =================================================================\")\n",
    "# --------------------------------------------------------"
   ]
  },
  {
   "cell_type": "code",
   "execution_count": null,
   "id": "sweet-standing",
   "metadata": {},
   "outputs": [],
   "source": []
  },
  {
   "cell_type": "code",
   "execution_count": null,
   "id": "million-presentation",
   "metadata": {},
   "outputs": [],
   "source": []
  },
  {
   "cell_type": "code",
   "execution_count": null,
   "id": "variable-oracle",
   "metadata": {},
   "outputs": [],
   "source": []
  }
 ],
 "metadata": {
  "kernelspec": {
   "display_name": "Python 3",
   "language": "python",
   "name": "python3"
  },
  "language_info": {
   "codemirror_mode": {
    "name": "ipython",
    "version": 3
   },
   "file_extension": ".py",
   "mimetype": "text/x-python",
   "name": "python",
   "nbconvert_exporter": "python",
   "pygments_lexer": "ipython3",
   "version": "3.6.8"
  }
 },
 "nbformat": 4,
 "nbformat_minor": 5
}
